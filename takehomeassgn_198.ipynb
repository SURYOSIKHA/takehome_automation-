{
 "cells": [
  {
   "cell_type": "code",
   "execution_count": 2,
   "id": "380be436",
   "metadata": {},
   "outputs": [],
   "source": [
    "# Importing necessary libraries\n",
    "import pandas as pd\n"
   ]
  },
  {
   "cell_type": "code",
   "execution_count": 3,
   "id": "b8e58a77",
   "metadata": {},
   "outputs": [],
   "source": [
    "# Load the dataset\n",
    "\n",
    "file_path = \"C:\\\\Users\\\\suryo\\\\Desktop\\\\Property_stolen_and_recovered.csv\"\n",
    "data = pd.read_csv(file_path)"
   ]
  },
  {
   "cell_type": "code",
   "execution_count": 4,
   "id": "0d556ede",
   "metadata": {},
   "outputs": [
    {
     "name": "stdout",
     "output_type": "stream",
     "text": [
      "Dataset Head:\n",
      "                   Area_Name  Year           Group_Name Sub_Group_Name  \\\n",
      "0  Andaman & Nicobar Islands  2001  Burglary - Property    3. Burglary   \n",
      "1             Andhra Pradesh  2001  Burglary - Property    3. Burglary   \n",
      "2          Arunachal Pradesh  2001  Burglary - Property    3. Burglary   \n",
      "3                      Assam  2001  Burglary - Property    3. Burglary   \n",
      "4                      Bihar  2001  Burglary - Property    3. Burglary   \n",
      "\n",
      "   Cases_Property_Recovered  Cases_Property_Stolen  \\\n",
      "0                        27                     64   \n",
      "1                      3321                   7134   \n",
      "2                        66                    248   \n",
      "3                       539                   2423   \n",
      "4                       367                   3231   \n",
      "\n",
      "   Value_of_Property_Recovered  Value_of_Property_Stolen  \n",
      "0                       755858                   1321961  \n",
      "1                     51483437                 147019348  \n",
      "2                       825115                   4931904  \n",
      "3                      3722850                  21466955  \n",
      "4                      2327135                  17023937  \n"
     ]
    }
   ],
   "source": [
    "# Display the first few rows of the dataset to understand its structure\n",
    "print(\"Dataset Head:\")\n",
    "print(data.head())"
   ]
  },
  {
   "cell_type": "code",
   "execution_count": 5,
   "id": "b24d53f7",
   "metadata": {},
   "outputs": [
    {
     "name": "stdout",
     "output_type": "stream",
     "text": [
      "\n",
      "Overall Trends:\n"
     ]
    }
   ],
   "source": [
    "# Overall Trends\n",
    "print(\"\\nOverall Trends:\")"
   ]
  },
  {
   "cell_type": "code",
   "execution_count": 6,
   "id": "43feb6da",
   "metadata": {},
   "outputs": [
    {
     "name": "stdout",
     "output_type": "stream",
     "text": [
      "\n",
      "Total Cases of Property Stolen per Year:\n",
      "Year\n",
      "2001    790836\n",
      "2002    774302\n",
      "2003    755556\n",
      "2004    812392\n",
      "2005    799578\n",
      "2006    813294\n",
      "2007    857074\n",
      "2008    912990\n",
      "2009    911884\n",
      "2010    946256\n",
      "Name: Cases_Property_Stolen, dtype: int64\n"
     ]
    }
   ],
   "source": [
    "# Total Cases of Property Stolen per Year\n",
    "total_cases_stolen_per_year = data.groupby('Year')['Cases_Property_Stolen'].sum()\n",
    "print(\"\\nTotal Cases of Property Stolen per Year:\")\n",
    "print(total_cases_stolen_per_year)"
   ]
  },
  {
   "cell_type": "code",
   "execution_count": 7,
   "id": "0d1b0f03",
   "metadata": {},
   "outputs": [
    {
     "name": "stdout",
     "output_type": "stream",
     "text": [
      "\n",
      "Total Value of Property Stolen per Year:\n",
      "Year\n",
      "2001     30344648510\n",
      "2002     49344611696\n",
      "2003     34700760664\n",
      "2004     47233918984\n",
      "2005     48179988362\n",
      "2006     48078914848\n",
      "2007     53614790385\n",
      "2008     77059122252\n",
      "2009     89900114948\n",
      "2010    125327167512\n",
      "Name: Value_of_Property_Stolen, dtype: int64\n"
     ]
    }
   ],
   "source": [
    "# Total Value of Property Stolen per Year\n",
    "total_value_stolen_per_year = data.groupby('Year')['Value_of_Property_Stolen'].sum()\n",
    "print(\"\\nTotal Value of Property Stolen per Year:\")\n",
    "print(total_value_stolen_per_year)"
   ]
  },
  {
   "cell_type": "code",
   "execution_count": 8,
   "id": "c35f46c3",
   "metadata": {},
   "outputs": [
    {
     "name": "stdout",
     "output_type": "stream",
     "text": [
      "\n",
      "Rates Comparison:\n"
     ]
    }
   ],
   "source": [
    "# Rates Comparison\n",
    "print(\"\\nRates Comparison:\")"
   ]
  },
  {
   "cell_type": "code",
   "execution_count": 9,
   "id": "04d38c52",
   "metadata": {},
   "outputs": [
    {
     "name": "stdout",
     "output_type": "stream",
     "text": [
      "\n",
      "Total Cases of Property Stolen per Area:\n",
      "Area_Name\n",
      "Andaman & Nicobar Islands       3662\n",
      "Andhra Pradesh                642822\n",
      "Arunachal Pradesh              16632\n",
      "Assam                         245560\n",
      "Bihar                         411840\n",
      "Chandigarh                     39720\n",
      "Chhattisgarh                  199712\n",
      "Dadra & Nagar Haveli            2642\n",
      "Daman & Diu                     2056\n",
      "Delhi                         490694\n",
      "Goa                            19788\n",
      "Gujarat                       534060\n",
      "Haryana                       303336\n",
      "Himachal Pradesh               34000\n",
      "Jammu & Kashmir                74906\n",
      "Jharkhand                     176868\n",
      "Karnataka                     494968\n",
      "Kerala                        221652\n",
      "Lakshadweep                      342\n",
      "Madhya Pradesh                733524\n",
      "Maharashtra                  1376814\n",
      "Manipur                        11584\n",
      "Meghalaya                      16724\n",
      "Mizoram                        26892\n",
      "Nagaland                       10814\n",
      "Odisha                        224280\n",
      "Puducherry                     14236\n",
      "Punjab                        151182\n",
      "Rajasthan                     469468\n",
      "Sikkim                          3314\n",
      "Tamil Nadu                    431864\n",
      "Tripura                        14480\n",
      "Uttar Pradesh                 559970\n",
      "Uttarakhand                    41530\n",
      "West Bengal                   372226\n",
      "Name: Cases_Property_Stolen, dtype: int64\n"
     ]
    }
   ],
   "source": [
    "# Total Cases of Property Stolen per Area\n",
    "total_cases_stolen_per_area = data.groupby('Area_Name')['Cases_Property_Stolen'].sum()\n",
    "print(\"\\nTotal Cases of Property Stolen per Area:\")\n",
    "print(total_cases_stolen_per_area)"
   ]
  },
  {
   "cell_type": "code",
   "execution_count": 10,
   "id": "ba1b87cc",
   "metadata": {},
   "outputs": [
    {
     "name": "stdout",
     "output_type": "stream",
     "text": [
      "\n",
      "Total Value of Property Stolen per Area:\n",
      "Area_Name\n",
      "Andaman & Nicobar Islands       646746834\n",
      "Andhra Pradesh                18762833176\n",
      "Arunachal Pradesh              1895885402\n",
      "Assam                          5814831574\n",
      "Bihar                          7549162134\n",
      "Chandigarh                     1674993984\n",
      "Chhattisgarh                   5770126842\n",
      "Dadra & Nagar Haveli           2007055568\n",
      "Daman & Diu                     375254250\n",
      "Delhi                         60706985834\n",
      "Goa                            4081613364\n",
      "Gujarat                       66430799410\n",
      "Haryana                       15282212218\n",
      "Himachal Pradesh               2813012810\n",
      "Jammu & Kashmir                2994343940\n",
      "Jharkhand                      4656050214\n",
      "Karnataka                     29150457754\n",
      "Kerala                        27663292028\n",
      "Lakshadweep                       9863129\n",
      "Madhya Pradesh                31059072132\n",
      "Maharashtra                  197405117114\n",
      "Manipur                        1431775098\n",
      "Meghalaya                      1478483206\n",
      "Mizoram                         861045142\n",
      "Nagaland                       3829289010\n",
      "Odisha                        13003825752\n",
      "Puducherry                      453605500\n",
      "Punjab                        15657927994\n",
      "Rajasthan                     17686460784\n",
      "Sikkim                          475664388\n",
      "Tamil Nadu                    14042000468\n",
      "Tripura                         632808560\n",
      "Uttar Pradesh                 23856476328\n",
      "Uttarakhand                    1635649166\n",
      "West Bengal                   21989317054\n",
      "Name: Value_of_Property_Stolen, dtype: int64\n"
     ]
    }
   ],
   "source": [
    "# Total Value of Property Stolen per Area\n",
    "total_value_stolen_per_area = data.groupby('Area_Name')['Value_of_Property_Stolen'].sum()\n",
    "print(\"\\nTotal Value of Property Stolen per Area:\")\n",
    "print(total_value_stolen_per_area)\n"
   ]
  },
  {
   "cell_type": "code",
   "execution_count": 11,
   "id": "cf5f61b6",
   "metadata": {},
   "outputs": [
    {
     "name": "stdout",
     "output_type": "stream",
     "text": [
      "\n",
      "Cases and Values Comparison:\n"
     ]
    }
   ],
   "source": [
    "# Cases and Values Comparison\n",
    "print(\"\\nCases and Values Comparison:\")"
   ]
  },
  {
   "cell_type": "code",
   "execution_count": 12,
   "id": "a47096e5",
   "metadata": {},
   "outputs": [
    {
     "name": "stdout",
     "output_type": "stream",
     "text": [
      "\n",
      "Total Cases of Property Recovered per Year:\n",
      "Year\n",
      "2001    272842\n",
      "2002    281302\n",
      "2003    279802\n",
      "2004    294758\n",
      "2005    307632\n",
      "2006    306076\n",
      "2007    316587\n",
      "2008    323048\n",
      "2009    310796\n",
      "2010    326510\n",
      "Name: Cases_Property_Recovered, dtype: int64\n"
     ]
    }
   ],
   "source": [
    "# Total Cases of Property Recovered per Year\n",
    "total_cases_recovered_per_year = data.groupby('Year')['Cases_Property_Recovered'].sum()\n",
    "print(\"\\nTotal Cases of Property Recovered per Year:\")\n",
    "print(total_cases_recovered_per_year)"
   ]
  },
  {
   "cell_type": "code",
   "execution_count": 13,
   "id": "4f411216",
   "metadata": {},
   "outputs": [
    {
     "name": "stdout",
     "output_type": "stream",
     "text": [
      "\n",
      "Total Value of Property Recovered per Year:\n",
      "Year\n",
      "2001     8946523770\n",
      "2002     9548408672\n",
      "2003     8951886540\n",
      "2004     9389393600\n",
      "2005    11519962792\n",
      "2006    12144608296\n",
      "2007    13930899181\n",
      "2008    15362975370\n",
      "2009    17522282464\n",
      "2010    36192599934\n",
      "Name: Value_of_Property_Recovered, dtype: int64\n"
     ]
    }
   ],
   "source": [
    "# Total Value of Property Recovered per Year\n",
    "total_value_recovered_per_year = data.groupby('Year')['Value_of_Property_Recovered'].sum()\n",
    "print(\"\\nTotal Value of Property Recovered per Year:\")\n",
    "print(total_value_recovered_per_year)"
   ]
  },
  {
   "cell_type": "code",
   "execution_count": 14,
   "id": "71a4edcc",
   "metadata": {},
   "outputs": [
    {
     "name": "stdout",
     "output_type": "stream",
     "text": [
      "\n",
      "Recovery Ratio:\n",
      "\n",
      "Recovery Ratio per Area:\n",
      "Area_Name\n",
      "Andaman & Nicobar Islands    0.392901\n",
      "Andhra Pradesh               0.418694\n",
      "Arunachal Pradesh            0.285637\n",
      "Assam                        0.245961\n",
      "Bihar                        0.154516\n",
      "Chandigarh                   0.518220\n",
      "Chhattisgarh                 0.297754\n",
      "Dadra & Nagar Haveli         0.370013\n",
      "Daman & Diu                  0.256785\n",
      "Delhi                        0.101591\n",
      "Goa                          0.187552\n",
      "Gujarat                      0.202455\n",
      "Haryana                      0.638940\n",
      "Himachal Pradesh             0.349806\n",
      "Jammu & Kashmir              0.397966\n",
      "Jharkhand                    0.195610\n",
      "Karnataka                    0.356099\n",
      "Kerala                       0.227107\n",
      "Lakshadweep                  0.309230\n",
      "Madhya Pradesh               0.419683\n",
      "Maharashtra                  0.195786\n",
      "Manipur                      0.074771\n",
      "Meghalaya                    0.183582\n",
      "Mizoram                      0.450489\n",
      "Nagaland                     0.206900\n",
      "Odisha                       0.265303\n",
      "Puducherry                   0.566317\n",
      "Punjab                       0.556464\n",
      "Rajasthan                    0.650939\n",
      "Sikkim                       0.202255\n",
      "Tamil Nadu                   0.607998\n",
      "Tripura                      0.152397\n",
      "Uttar Pradesh                0.715469\n",
      "Uttarakhand                  0.324054\n",
      "West Bengal                  0.248539\n",
      "Name: Recovery_Ratio, dtype: float64\n"
     ]
    }
   ],
   "source": [
    "# Recovery Ratio\n",
    "print(\"\\nRecovery Ratio:\")\n",
    "# Recovery Ratio per Area\n",
    "data['Recovery_Ratio'] = data['Value_of_Property_Recovered'] / data['Value_of_Property_Stolen']\n",
    "recovery_ratio_per_area = data.groupby('Area_Name')['Recovery_Ratio'].mean()\n",
    "print(\"\\nRecovery Ratio per Area:\")\n",
    "print(recovery_ratio_per_area)"
   ]
  },
  {
   "cell_type": "code",
   "execution_count": 15,
   "id": "1f63cd38",
   "metadata": {},
   "outputs": [
    {
     "name": "stdout",
     "output_type": "stream",
     "text": [
      "\n",
      "Value Comparison:\n",
      "\n",
      "Total Value of Property Stolen per Group:\n",
      "Group_Name\n",
      "Burglary - Property                     33789815938\n",
      "Criminal Breach of Trust - Property     59792902381\n",
      "Dacoity -Property                       16758361312\n",
      "Other heads of Property                 76661474892\n",
      "Robbery - Property                      14468566168\n",
      "Theft - Property                       100421322551\n",
      "Total Property                         301891594919\n",
      "Name: Value_of_Property_Stolen, dtype: int64\n"
     ]
    }
   ],
   "source": [
    "# Value Comparison\n",
    "print(\"\\nValue Comparison:\")\n",
    "# Total Value of Property Stolen per Group\n",
    "total_value_stolen_per_group = data.groupby('Group_Name')['Value_of_Property_Stolen'].sum()\n",
    "print(\"\\nTotal Value of Property Stolen per Group:\")\n",
    "print(total_value_stolen_per_group)"
   ]
  },
  {
   "cell_type": "code",
   "execution_count": 16,
   "id": "51710baf",
   "metadata": {},
   "outputs": [
    {
     "name": "stdout",
     "output_type": "stream",
     "text": [
      "\n",
      "Regional Analysis:\n",
      "\n",
      "Total Cases of Property Stolen per Area:\n",
      "Area_Name\n",
      "Andaman & Nicobar Islands       3662\n",
      "Andhra Pradesh                642822\n",
      "Arunachal Pradesh              16632\n",
      "Assam                         245560\n",
      "Bihar                         411840\n",
      "Chandigarh                     39720\n",
      "Chhattisgarh                  199712\n",
      "Dadra & Nagar Haveli            2642\n",
      "Daman & Diu                     2056\n",
      "Delhi                         490694\n",
      "Goa                            19788\n",
      "Gujarat                       534060\n",
      "Haryana                       303336\n",
      "Himachal Pradesh               34000\n",
      "Jammu & Kashmir                74906\n",
      "Jharkhand                     176868\n",
      "Karnataka                     494968\n",
      "Kerala                        221652\n",
      "Lakshadweep                      342\n",
      "Madhya Pradesh                733524\n",
      "Maharashtra                  1376814\n",
      "Manipur                        11584\n",
      "Meghalaya                      16724\n",
      "Mizoram                        26892\n",
      "Nagaland                       10814\n",
      "Odisha                        224280\n",
      "Puducherry                     14236\n",
      "Punjab                        151182\n",
      "Rajasthan                     469468\n",
      "Sikkim                          3314\n",
      "Tamil Nadu                    431864\n",
      "Tripura                        14480\n",
      "Uttar Pradesh                 559970\n",
      "Uttarakhand                    41530\n",
      "West Bengal                   372226\n",
      "Name: Cases_Property_Stolen, dtype: int64\n"
     ]
    }
   ],
   "source": [
    "# Seasonal Patterns\n",
    "# Assuming seasonal patterns, we would need a 'Month' column which isn't present in the dataset.\n",
    "\n",
    "# Regional Analysis\n",
    "print(\"\\nRegional Analysis:\")\n",
    "# Total Cases of Property Stolen per Area\n",
    "total_cases_stolen_per_area = data.groupby('Area_Name')['Cases_Property_Stolen'].sum()\n",
    "print(\"\\nTotal Cases of Property Stolen per Area:\")\n",
    "print(total_cases_stolen_per_area)"
   ]
  },
  {
   "cell_type": "code",
   "execution_count": 17,
   "id": "f068345c",
   "metadata": {},
   "outputs": [
    {
     "name": "stdout",
     "output_type": "stream",
     "text": [
      "\n",
      "Trend of Cases Over Years:\n",
      "Year                         2001    2002    2003    2004    2005    2006  \\\n",
      "Area_Name                                                                   \n",
      "Andaman & Nicobar Islands     286     220     256     350     344     382   \n",
      "Andhra Pradesh              50140   56680   66630   64926   65716   65630   \n",
      "Arunachal Pradesh            1716    1638    1552    1460    1898    1742   \n",
      "Assam                       19556   20538   20596   21150   21178   25166   \n",
      "Bihar                       37006   38666   38422   43346   40030   40652   \n",
      "Chandigarh                   3896    4110    3156    3550    3592    3296   \n",
      "Chhattisgarh                19788   17374   17184   21096   20308   19376   \n",
      "Dadra & Nagar Haveli          212     264     264     224     252     304   \n",
      "Daman & Diu                   188     260     214     144     200     288   \n",
      "Delhi                       50340   45362   41906   49804   48986   48082   \n",
      "Goa                          2008    1902    1694    1692    1708    1602   \n",
      "Gujarat                     48820   49916   58814   56482   53284   54434   \n",
      "Haryana                     21072   20532   20048   21642   27168   32750   \n",
      "Himachal Pradesh             3146    2700    2784    3082    3102    3504   \n",
      "Jammu & Kashmir              7062    7274    7536    7242    7088    7062   \n",
      "Jharkhand                   11528   15336   14422   15336   17628   19250   \n",
      "Karnataka                   42078   44438   44926   48530   50370   46328   \n",
      "Kerala                      20884   22492   19686   21196   21904   21128   \n",
      "Lakshadweep                    24      42      28      14      18      38   \n",
      "Madhya Pradesh              75108   74902   71894   75292   69382   71208   \n",
      "Maharashtra                120346  115088  114236  130050  140324  140008   \n",
      "Manipur                       910     858     846     784     778    1076   \n",
      "Meghalaya                    1426    1516    1456    1422    1494    1516   \n",
      "Mizoram                      3032    2998    4126    1752    2540    2406   \n",
      "Nagaland                      926    1058     874     562     984    1022   \n",
      "Odisha                      20334   18574   18924   20830   22552   22930   \n",
      "Puducherry                   1302    1350    1440    1460    1098    1314   \n",
      "Punjab                      11900   12076   13612   10710   11400   14776   \n",
      "Rajasthan                   50652   45460   47304   49102   39380   45246   \n",
      "Sikkim                        258     236     254     336     332     432   \n",
      "Tamil Nadu                  49212   51650   48164   44978   40704   35574   \n",
      "Tripura                      1158    1238    1152    1154    1280    1796   \n",
      "Uttar Pradesh               73422   55652   36024   52974   47288   47690   \n",
      "Uttarakhand                  4692    3878    3896    4362    4372    3844   \n",
      "West Bengal                 36408   38024   31236   35358   30896   31442   \n",
      "\n",
      "Year                         2007    2008    2009    2010  \n",
      "Area_Name                                                  \n",
      "Andaman & Nicobar Islands     446     464     476     438  \n",
      "Andhra Pradesh              65478   68484   66324   72814  \n",
      "Arunachal Pradesh            1792    1742    1430    1662  \n",
      "Assam                       35618   27792   26578   27388  \n",
      "Bihar                       38988   42648   46628   45454  \n",
      "Chandigarh                   4402    5058    4550    4110  \n",
      "Chhattisgarh                19674   22222   21552   21138  \n",
      "Dadra & Nagar Haveli          292     276     308     246  \n",
      "Daman & Diu                   210     214     168     170  \n",
      "Delhi                       47426   49166   53386   56236  \n",
      "Goa                          1690    2042    2484    2966  \n",
      "Gujarat                     52138   57680   54814   47678  \n",
      "Haryana                     35072   38764   39190   47098  \n",
      "Himachal Pradesh             4228    4428    3608    3418  \n",
      "Jammu & Kashmir              7616    7388    8682    7956  \n",
      "Jharkhand                   20490   20264   21978   20636  \n",
      "Karnataka                   44260   53454   61150   59434  \n",
      "Kerala                      25876   24636   23886   19964  \n",
      "Lakshadweep                    26      22     116      14  \n",
      "Madhya Pradesh              73868   78128   75026   68716  \n",
      "Maharashtra                143818  157138  154480  161326  \n",
      "Manipur                      1786    1820    1396    1330  \n",
      "Meghalaya                    1724    2476    1790    1904  \n",
      "Mizoram                      2562    2308    2426    2742  \n",
      "Nagaland                     1152    1126    1540    1570  \n",
      "Odisha                      25890   24364   24500   25382  \n",
      "Puducherry                   1782    1626    1614    1250  \n",
      "Punjab                      18426   19284   19252   19746  \n",
      "Rajasthan                   50038   49626   36356   56304  \n",
      "Sikkim                        428     444     326     268  \n",
      "Tamil Nadu                  35750   39836   42978   43018  \n",
      "Tripura                      1488    1804    1652    1758  \n",
      "Uttar Pradesh               53716   58582   64486   70136  \n",
      "Uttarakhand                  4370    4066    3582    4468  \n",
      "West Bengal                 34554   43618   43172   47518  \n"
     ]
    }
   ],
   "source": [
    "# Trend of Cases Over Years\n",
    "trend_cases_over_years = data.groupby(['Area_Name', 'Year'])['Cases_Property_Stolen'].sum().unstack()\n",
    "print(\"\\nTrend of Cases Over Years:\")\n",
    "print(trend_cases_over_years)"
   ]
  },
  {
   "cell_type": "code",
   "execution_count": 18,
   "id": "e2f9ca6d",
   "metadata": {},
   "outputs": [
    {
     "name": "stdout",
     "output_type": "stream",
     "text": [
      "\n",
      "Stolen vs. Recovered Values:\n",
      "\n",
      "Total Value of Property Stolen per Area:\n",
      "Area_Name\n",
      "Andaman & Nicobar Islands       646746834\n",
      "Andhra Pradesh                18762833176\n",
      "Arunachal Pradesh              1895885402\n",
      "Assam                          5814831574\n",
      "Bihar                          7549162134\n",
      "Chandigarh                     1674993984\n",
      "Chhattisgarh                   5770126842\n",
      "Dadra & Nagar Haveli           2007055568\n",
      "Daman & Diu                     375254250\n",
      "Delhi                         60706985834\n",
      "Goa                            4081613364\n",
      "Gujarat                       66430799410\n",
      "Haryana                       15282212218\n",
      "Himachal Pradesh               2813012810\n",
      "Jammu & Kashmir                2994343940\n",
      "Jharkhand                      4656050214\n",
      "Karnataka                     29150457754\n",
      "Kerala                        27663292028\n",
      "Lakshadweep                       9863129\n",
      "Madhya Pradesh                31059072132\n",
      "Maharashtra                  197405117114\n",
      "Manipur                        1431775098\n",
      "Meghalaya                      1478483206\n",
      "Mizoram                         861045142\n",
      "Nagaland                       3829289010\n",
      "Odisha                        13003825752\n",
      "Puducherry                      453605500\n",
      "Punjab                        15657927994\n",
      "Rajasthan                     17686460784\n",
      "Sikkim                          475664388\n",
      "Tamil Nadu                    14042000468\n",
      "Tripura                         632808560\n",
      "Uttar Pradesh                 23856476328\n",
      "Uttarakhand                    1635649166\n",
      "West Bengal                   21989317054\n",
      "Name: Value_of_Property_Stolen, dtype: int64\n"
     ]
    }
   ],
   "source": [
    "# Stolen vs. Recovered Values\n",
    "print(\"\\nStolen vs. Recovered Values:\")\n",
    "# Total Value of Property Stolen per Area\n",
    "total_value_stolen_per_area = data.groupby('Area_Name')['Value_of_Property_Stolen'].sum()\n",
    "print(\"\\nTotal Value of Property Stolen per Area:\")\n",
    "print(total_value_stolen_per_area)"
   ]
  },
  {
   "cell_type": "code",
   "execution_count": 19,
   "id": "8d1e8c23",
   "metadata": {},
   "outputs": [
    {
     "name": "stdout",
     "output_type": "stream",
     "text": [
      "\n",
      "Total Value of Property Recovered per Area:\n",
      "Area_Name\n",
      "Andaman & Nicobar Islands       53629194\n",
      "Andhra Pradesh                8320971694\n",
      "Arunachal Pradesh              646754238\n",
      "Assam                         1521007674\n",
      "Bihar                         1098784766\n",
      "Chandigarh                     625548682\n",
      "Chhattisgarh                  1932428432\n",
      "Dadra & Nagar Haveli           225144198\n",
      "Daman & Diu                     81535334\n",
      "Delhi                         2777898238\n",
      "Goa                            322047336\n",
      "Gujarat                       6902107076\n",
      "Haryana                       9005055364\n",
      "Himachal Pradesh               708580140\n",
      "Jammu & Kashmir               1190983796\n",
      "Jharkhand                      688336780\n",
      "Karnataka                     9012218484\n",
      "Kerala                        3070699020\n",
      "Lakshadweep                      1591327\n",
      "Madhya Pradesh               20338284748\n",
      "Maharashtra                  24278687606\n",
      "Manipur                        136829326\n",
      "Meghalaya                      151165908\n",
      "Mizoram                        345128278\n",
      "Nagaland                       227911296\n",
      "Odisha                        2761739566\n",
      "Puducherry                     249050464\n",
      "Punjab                        8637846488\n",
      "Rajasthan                    10094937386\n",
      "Sikkim                          40014540\n",
      "Tamil Nadu                    8731172288\n",
      "Tripura                         88223078\n",
      "Uttar Pradesh                13879052340\n",
      "Uttarakhand                    501626720\n",
      "West Bengal                   4862548814\n",
      "Name: Value_of_Property_Recovered, dtype: int64\n"
     ]
    }
   ],
   "source": [
    "\n",
    "# Total Value of Property Recovered per Area\n",
    "total_value_recovered_per_area = data.groupby('Area_Name')['Value_of_Property_Recovered'].sum()\n",
    "print(\"\\nTotal Value of Property Recovered per Area:\")\n",
    "print(total_value_recovered_per_area)\n"
   ]
  },
  {
   "cell_type": "code",
   "execution_count": null,
   "id": "eec2a774",
   "metadata": {},
   "outputs": [],
   "source": []
  }
 ],
 "metadata": {
  "kernelspec": {
   "display_name": "Python 3 (ipykernel)",
   "language": "python",
   "name": "python3"
  },
  "language_info": {
   "codemirror_mode": {
    "name": "ipython",
    "version": 3
   },
   "file_extension": ".py",
   "mimetype": "text/x-python",
   "name": "python",
   "nbconvert_exporter": "python",
   "pygments_lexer": "ipython3",
   "version": "3.10.4"
  }
 },
 "nbformat": 4,
 "nbformat_minor": 5
}
